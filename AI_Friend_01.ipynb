{
 "cells": [
  {
   "cell_type": "code",
   "execution_count": 2,
   "id": "162f4e41",
   "metadata": {},
   "outputs": [],
   "source": [
    "import os\n",
    "\n",
    "# 모델 캐시 경로를 D드라이브로 설정\n",
    "os.environ[\"HF_HOME\"] = \"D:/whisper_cache\"\n",
    "os.environ[\"TRANSFORMERS_CACHE\"] = \"D:/whisper_cache\"\n",
    "os.environ[\"TORCH_HOME\"] = \"D:/whisper_cache\"\n"
   ]
  },
  {
   "cell_type": "code",
   "execution_count": 3,
   "id": "1310fa42",
   "metadata": {},
   "outputs": [],
   "source": [
    "# 설치 안되어 있다면 실행\n",
    "# 위스퍼 이용\n",
    "# pip install -U openai-whisper"
   ]
  },
  {
   "cell_type": "code",
   "execution_count": 11,
   "id": "7ee73283",
   "metadata": {},
   "outputs": [],
   "source": [
    "# 각자 상황에 맞는 코드를 터미널에서 실행\n",
    "\n",
    "# on Ubuntu or Debian\n",
    "# sudo apt update && sudo apt install ffmpeg\n",
    "\n",
    "# on Arch Linux\n",
    "# sudo pacman -S ffmpeg\n",
    "\n",
    "# on MacOS using Homebrew (https://brew.sh/)\n",
    "# brew install ffmpeg\n",
    "\n",
    "# on Windows using Chocolatey (https://chocolatey.org/)\n",
    "# choco install ffmpeg\n",
    "\n",
    "# on Windows using Scoop (https://scoop.sh/)\n",
    "# scoop install ffmpeg\n"
   ]
  },
  {
   "cell_type": "code",
   "execution_count": null,
   "id": "49853d66",
   "metadata": {},
   "outputs": [],
   "source": [
    "# pyaudio 설치\n",
    "# !pip install pyaudio"
   ]
  },
  {
   "cell_type": "code",
   "execution_count": 1,
   "id": "7cb8ded0",
   "metadata": {},
   "outputs": [],
   "source": [
    "import pyaudio\n",
    "import wave\n",
    "import whisper"
   ]
  },
  {
   "cell_type": "code",
   "execution_count": 2,
   "id": "b69bfa98",
   "metadata": {},
   "outputs": [],
   "source": [
    "model = whisper.load_model(\"medium\")"
   ]
  },
  {
   "cell_type": "code",
   "execution_count": 5,
   "id": "b77b5107",
   "metadata": {},
   "outputs": [
    {
     "name": "stdout",
     "output_type": "stream",
     "text": [
      " 아, 아, 와타시 노 나마에 와 A.I. 프리이렌\n"
     ]
    }
   ],
   "source": [
    "def transcribe_directly():\n",
    "    sample_rate = 16000\n",
    "    bits_per_sample = 16\n",
    "    chunk_size = 1024\n",
    "    audio_format = pyaudio.paInt16\n",
    "    channels = 1\n",
    "\n",
    "    def callback(in_data, frame_count, time_info, status):\n",
    "        wav_file.writeframes(in_data)\n",
    "        return None, pyaudio.paContinue\n",
    "\n",
    "    # Open the wave file for writing\n",
    "    wav_file = wave.open('./output.wav', 'wb')\n",
    "    wav_file.setnchannels(channels)\n",
    "    wav_file.setsampwidth(bits_per_sample // 8)\n",
    "    wav_file.setframerate(sample_rate)\n",
    "\n",
    "    # Initialize PyAudio\n",
    "    audio = pyaudio.PyAudio()\n",
    "\n",
    "    # Start recording audio\n",
    "    stream = audio.open(format=audio_format,\n",
    "                        channels=channels,\n",
    "                        rate=sample_rate,\n",
    "                        input=True,\n",
    "                        frames_per_buffer=chunk_size,\n",
    "                        stream_callback=callback)\n",
    "\n",
    "    input(\"Press Enter to stop recording...\")\n",
    "    # Stop and close the audio stream\n",
    "    stream.stop_stream()\n",
    "    stream.close()\n",
    "    audio.terminate()\n",
    "\n",
    "    # Close the wave file\n",
    "    wav_file.close()\n",
    "    result = model.transcribe(\"./output.wav\", language=\"ko\")\n",
    "    return result['text']\n",
    "\n",
    "text = transcribe_directly()\n",
    "print(text)"
   ]
  },
  {
   "cell_type": "code",
   "execution_count": null,
   "id": "83546da3",
   "metadata": {},
   "outputs": [],
   "source": []
  }
 ],
 "metadata": {
  "kernelspec": {
   "display_name": "Python 3",
   "language": "python",
   "name": "python3"
  },
  "language_info": {
   "codemirror_mode": {
    "name": "ipython",
    "version": 3
   },
   "file_extension": ".py",
   "mimetype": "text/x-python",
   "name": "python",
   "nbconvert_exporter": "python",
   "pygments_lexer": "ipython3",
   "version": "3.10.18"
  }
 },
 "nbformat": 4,
 "nbformat_minor": 5
}
